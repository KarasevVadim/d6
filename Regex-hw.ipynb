{
 "cells": [
  {
   "cell_type": "markdown",
   "metadata": {},
   "source": [
    "# Домашнее задание к лекции \"Регулярные выражения\"\n",
    "Для зачета необходимо выполнить 4 задания.  \n",
    "Для зачета с отличием – все."
   ]
  },
  {
   "cell_type": "markdown",
   "metadata": {},
   "source": [
    "## Задание 1"
   ]
  },
  {
   "cell_type": "markdown",
   "metadata": {},
   "source": [
    "Напишите функцию, которая принимает на вход строку и проверяет является ли она валидным транспортным номером. Если да, то функция должна возвращать отдельно номер и регион."
   ]
  },
  {
   "cell_type": "code",
   "execution_count": 335,
   "metadata": {},
   "outputs": [
    {
     "name": "stdout",
     "output_type": "stream",
     "text": [
      "Введенный номер валиден\n",
      "(['О238ОО'], ['177'])\n"
     ]
    }
   ],
   "source": [
    "\n",
    "\n",
    "n='О238ОО177'\n",
    "\n",
    "#------------------------------\n",
    "\n",
    "def k_num(n):\n",
    "    \n",
    "    \"\"\" По договоренности проверка введенного автомобильного регистрационного номера на  русские заглавные буквы и \n",
    "    длина региона от 2 до3 знаков\n",
    "    \"\"\"\n",
    "    \n",
    "    \n",
    "    import re\n",
    "    pat=r'[АВЕКМНОРСТУХ]{1}\\d{3}[АВЕКМНОРСТУХ]{2}\\d{2,3}$'\n",
    "    pat_num=r'[АВЕКМНОРСТУХ]{1}\\d{3}[АВЕКМНОРСТУХ]{2}'\n",
    "    pat_reg=r'\\d{2,3}$'\n",
    "    if re.match(pat,n):\n",
    "        print('Введенный номер валиден')\n",
    "        return re.findall(pat_num,n),re.findall(pat_reg,n)\n",
    "    else:\n",
    "        print('Введенный номер невалиден')\n",
    "        return\n",
    "\n",
    "#-----------------------------------\n",
    "    \n",
    "print(k_num(n))"
   ]
  },
  {
   "cell_type": "markdown",
   "metadata": {},
   "source": [
    "## Задание 2"
   ]
  },
  {
   "cell_type": "markdown",
   "metadata": {},
   "source": [
    "Напишите функцию, которая проверяет e-mail адрес на валидность по стандарту RFC822: http://www.w3.org/Protocols/rfc822/. Для этого постарайтесь написать (в крайнем случае найти) самый полный шаблон для проверки e-mail адресов через регулярное выражение. Разберитесь и напишите примеры, какие ваш шаблон может не охватить."
   ]
  },
  {
   "cell_type": "markdown",
   "metadata": {},
   "source": [
    "## Задание 3\n",
    "При помощи регулярных выражений напишите функцию, которая будет возвращать акроним переданного в нее текста."
   ]
  },
  {
   "cell_type": "code",
   "execution_count": 517,
   "metadata": {},
   "outputs": [],
   "source": [
    "text_='илорло щшг гзщшг'"
   ]
  },
  {
   "cell_type": "code",
   "execution_count": 519,
   "metadata": {},
   "outputs": [
    {
     "data": {
      "text/plain": [
       "'ищг'"
      ]
     },
     "execution_count": 519,
     "metadata": {},
     "output_type": "execute_result"
    }
   ],
   "source": [
    "def akro(akr_):\n",
    "    \n",
    "    import re\n",
    "    pat=r' \\w'\n",
    "    akr_=' '+akr_\n",
    "    re.search(pat, akr_)\n",
    "    return re.sub(' ','',(''.join(re.findall(pat,akr_)).strip()))\n",
    "akro(text_)"
   ]
  },
  {
   "cell_type": "markdown",
   "metadata": {},
   "source": [
    "## Задание 4\n",
    "Напишите функцию, которая будет удалять все последовательные повторы слов из заданной строки."
   ]
  },
  {
   "cell_type": "code",
   "execution_count": 246,
   "metadata": {},
   "outputs": [],
   "source": [
    "pov='777 777 zupu zkk zkk'"
   ]
  },
  {
   "cell_type": "code",
   "execution_count": 520,
   "metadata": {},
   "outputs": [
    {
     "data": {
      "text/plain": [
       "'777 zupu zkk'"
      ]
     },
     "execution_count": 520,
     "metadata": {},
     "output_type": "execute_result"
    }
   ],
   "source": [
    "def group_(ppp):\n",
    "    import re\n",
    "    pat='\\\\b(\\w+)(?:\\s+\\\\1\\\\b)*'\n",
    "    return ' '.join(re.findall(pat,pov))\n",
    "\n",
    "group_(pov)"
   ]
  },
  {
   "cell_type": "markdown",
   "metadata": {},
   "source": [
    "## Задание 5\n",
    "Напишите функцию, которая будет проверять номер сотового телефона на валидность, если он валиден, то переводить его в формат:   \n",
    "+7(xxx)-xxx-xx-xx  \n",
    "Постарайтесь предусмотреть как можно больше адекватных форматов изначального ввода номера.\n",
    "Примеры правильных и неправильных форматов:\n",
    "- +1 555 555-55-55;\n",
    "- 5555555555;\n",
    "- 555555555;\n",
    "- 8(555)555-55-55;\n",
    "- +7 555 555 55 55;\n",
    "- 7(555) 555-55-55;\n",
    "- +7 555+555+55+55."
   ]
  },
  {
   "cell_type": "code",
   "execution_count": 27,
   "metadata": {},
   "outputs": [
    {
     "data": {
      "text/plain": [
       "'+7(555)-555-55-55'"
      ]
     },
     "execution_count": 27,
     "metadata": {},
     "output_type": "execute_result"
    }
   ],
   "source": [
    "n='+7 555 555-55-55'\n",
    "\n",
    "def pr_num(num_):\n",
    "    if 10>len(num_)>18: return print(\"Номер невалиден!\")\n",
    "    import re\n",
    "    pat=r'(\\+)?(7|8)?[\\ \\-\\+]?\\(?(\\d{3})\\)?[\\ \\-\\+]?(\\d{3})[\\ \\-\\+]?(\\d{2})[\\ \\-\\+]?(\\d{2})$'\n",
    "    if re.match(pat,num_):\n",
    "        return re.sub(pat,r'+7(\\3)-\\4-\\5-\\6',n)\n",
    "    else: return print(\"Номер невалиден!\")\n",
    "\n",
    "pr_num(n)"
   ]
  },
  {
   "cell_type": "code",
   "execution_count": null,
   "metadata": {},
   "outputs": [],
   "source": []
  }
 ],
 "metadata": {
  "kernelspec": {
   "display_name": "Python 3",
   "language": "python",
   "name": "python3"
  },
  "language_info": {
   "codemirror_mode": {
    "name": "ipython",
    "version": 3
   },
   "file_extension": ".py",
   "mimetype": "text/x-python",
   "name": "python",
   "nbconvert_exporter": "python",
   "pygments_lexer": "ipython3",
   "version": "3.7.3"
  }
 },
 "nbformat": 4,
 "nbformat_minor": 2
}
